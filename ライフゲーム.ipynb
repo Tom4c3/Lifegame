{
  "nbformat": 4,
  "nbformat_minor": 0,
  "metadata": {
    "colab": {
      "provenance": [],
      "include_colab_link": true
    },
    "kernelspec": {
      "name": "python3",
      "display_name": "Python 3"
    }
  },
  "cells": [
    {
      "cell_type": "markdown",
      "metadata": {
        "id": "view-in-github",
        "colab_type": "text"
      },
      "source": [
        "<a href=\"https://colab.research.google.com/github/Tom4c3/Lifegame/blob/main/%E3%83%A9%E3%82%A4%E3%83%95%E3%82%B2%E3%83%BC%E3%83%A0.ipynb\" target=\"_parent\"><img src=\"https://colab.research.google.com/assets/colab-badge.svg\" alt=\"Open In Colab\"/></a>"
      ]
    },
    {
      "cell_type": "markdown",
      "metadata": {
        "id": "yzXRpMgwSCPl"
      },
      "source": [
        "# ライフゲーム\n",
        "これを実行していくと簡単にライフゲームが実行できます．\n",
        "最初に左側にあるフォルダマークをひらいて，自分のドライブをマウントしよう．\n",
        "そのあとで，コードをおきたいフォルダまでのパスを決めます．そのパスを path に指定しているのが下のセル(かたまり)にあるコードです．\n",
        "そのあと，%cd でフォルダを移動して，その下でgit cloneしています．pathを編集後，左にカーソルをもってきて再生マークをおして実行してみよう．\n",
        "\n",
        "またcloneしたフォルダにおりるためもういちど2番目のセルで %cd を実行します．\n",
        "cloneしてとってきたコードを単に実行したいときは3番目のセルを実行してください．しばらくまつとpngファイルが大量にできているとおもいます．\n",
        "\n",
        "3番目のセルのやつだとバラバラのファイルしかできないので実行しません．それをつなげるためにちょっと改編したコードが4番目のセルです．こちらを実行すると，大量のpngとともにanimation gifを生成します．\n",
        "\n",
        "あそんでみよう．"
      ]
    },
    {
      "cell_type": "code",
      "metadata": {
        "id": "9fonswfrSBxv",
        "colab": {
          "base_uri": "https://localhost:8080/"
        },
        "outputId": "9ea3cacd-9e8d-4f91-a496-cb7783f6b62f"
      },
      "source": [
        "from google.colab import drive\n",
        "drive.mount('/content/drive')\n",
        "#https://qiita.com/kurilab/items/f6f4374d7b1980060de7\n",
        "%cd /content/drive/My Drive/ai/\n",
        "!git clone https://github.com/ctjacobs/game-of-life.git"
      ],
      "execution_count": null,
      "outputs": [
        {
          "output_type": "stream",
          "name": "stdout",
          "text": [
            "Mounted at /content/drive\n",
            "/content/drive/My Drive/ai\n",
            "fatal: destination path 'game-of-life' already exists and is not an empty directory.\n"
          ]
        }
      ]
    },
    {
      "cell_type": "code",
      "metadata": {
        "id": "xlfPyTvoSjWX",
        "colab": {
          "base_uri": "https://localhost:8080/"
        },
        "outputId": "dcdda85f-f3ba-44da-c3aa-7617c4677f8e"
      },
      "source": [
        "%cd /content/drive/My Drive/ai/game-of-life"
      ],
      "execution_count": null,
      "outputs": [
        {
          "output_type": "stream",
          "name": "stdout",
          "text": [
            "/content/drive/My Drive/ai/game-of-life\n"
          ]
        }
      ]
    },
    {
      "cell_type": "code",
      "metadata": {
        "id": "GYPx4vdmStjf",
        "colab": {
          "base_uri": "https://localhost:8080/"
        },
        "outputId": "bcaf6293-95e5-44ff-dde9-9ec41e1b98df"
      },
      "source": [
        "!python game-of-life.py"
      ],
      "execution_count": null,
      "outputs": [
        {
          "output_type": "stream",
          "name": "stdout",
          "text": [
            "  File \"game-of-life.py\", line 75\n",
            "    print \"At time level %d\" % t\n",
            "                           ^\n",
            "SyntaxError: Missing parentheses in call to 'print'. Did you mean print(\"At time level %d\" % t)?\n"
          ]
        }
      ]
    },
    {
      "cell_type": "code",
      "metadata": {
        "id": "lFyKs8PmVGWg",
        "colab": {
          "base_uri": "https://localhost:8080/",
          "height": 305
        },
        "outputId": "ad1eb313-719c-4f6a-caf0-793c500e2bc2"
      },
      "source": [
        "from google.colab import drive\n",
        "drive.mount('/content/drive')\n",
        "path = '/content/drive/My Drive/ai'\n",
        "%cd /content/drive/My Drive/ai/game-of-life\n",
        "#!/usr/bin/env python\n",
        "\n",
        "#  An implementation of Conway's Game of Life in Python.\n",
        "\n",
        "#  Copyright (C) 2013 Christian Jacobs.\n",
        "\n",
        "#  This program is free software: you can redistribute it and/or modify\n",
        "#  it under the terms of the GNU General Public License as published by\n",
        "#  the Free Software Foundation, either version 3 of the License, or\n",
        "#  (at your option) any later version.\n",
        "\n",
        "#  This program is distributed in the hope that it will be useful,\n",
        "#  but WITHOUT ANY WARRANTY; without even the implied warranty of\n",
        "#  MERCHANTABILITY or FITNESS FOR A PARTICULAR PURPOSE.  See the\n",
        "#  GNU General Public License for more details.\n",
        "\n",
        "#  You should have received a copy of the GNU General Public License\n",
        "#  along with this program.  If not, see <http://www.gnu.org/licenses/>.\n",
        "\n",
        "import numpy\n",
        "import pylab\n",
        "import random\n",
        "\n",
        "class GameOfLife:\n",
        "\n",
        "   def __init__(self, N=100, T=200):\n",
        "      \"\"\" Set up Conway's Game of Life. \"\"\"\n",
        "      # Here we create two grids to hold the old and new configurations.\n",
        "      # This assumes an N*N grid of points.\n",
        "      # Each point is either alive or dead, represented by integer values of 1 and 0, respectively.\n",
        "      self.N = N\n",
        "      self.old_grid = numpy.zeros(N*N, dtype='i').reshape(N,N)\n",
        "      self.new_grid = numpy.zeros(N*N, dtype='i').reshape(N,N)\n",
        "      self.T = T # The maximum number of generations\n",
        "\n",
        "      # Set up a random initial configuration for the grid.\n",
        "      for i in range(0, self.N):\n",
        "         for j in range(0, self.N):\n",
        "            if(random.randint(0, 100) < 15):\n",
        "               self.old_grid[i][j] = 1\n",
        "            else:\n",
        "               self.old_grid[i][j] = 0\n",
        "      \n",
        "   def live_neighbours(self, i, j):\n",
        "      \"\"\" Count the number of live neighbours around point (i, j). \"\"\"\n",
        "      s = 0 # The total number of live neighbours.\n",
        "      # Loop over all the neighbours.\n",
        "      for x in [i-1, i, i+1]:\n",
        "         for y in [j-1, j, j+1]:\n",
        "            if(x == i and y == j):\n",
        "               continue # Skip the current point itself - we only want to count the neighbours!\n",
        "            if(x != self.N and y != self.N):\n",
        "               s += self.old_grid[x][y]\n",
        "            # The remaining branches handle the case where the neighbour is off the end of the grid.\n",
        "            # In this case, we loop back round such that the grid becomes a \"toroidal array\".\n",
        "            elif(x == self.N and y != self.N):\n",
        "               s += self.old_grid[0][y]\n",
        "            elif(x != self.N and y == self.N):\n",
        "               s += self.old_grid[x][0]\n",
        "            else:\n",
        "               s += self.old_grid[0][0]\n",
        "      return s\n",
        "\n",
        "   def play(self):\n",
        "      \"\"\" Play Conway's Game of Life. \"\"\"\n",
        "      # Write the initial configuration to file.\n",
        "      pylab.pcolormesh(self.old_grid)\n",
        "      #pylab.colorbar()\n",
        "      #pylab.savefig(path+\"generation000.png\")\n",
        "\n",
        "      t = 1 # Current time level\n",
        "      write_frequency = 5 # How frequently we want to output a grid configuration.\n",
        "      while t <= self.T: # Evolve!\n",
        "         #print (\"At time level %d\" % t)\n",
        "\n",
        "         # Loop over each cell of the grid and apply Conway's rules.\n",
        "         for i in range(self.N):\n",
        "            for j in range(self.N):\n",
        "               live = self.live_neighbours(i, j)\n",
        "               if(self.old_grid[i][j] == 1 and live < 2):\n",
        "                  self.new_grid[i][j] = 0 # Dead from starvation.\n",
        "               elif(self.old_grid[i][j] == 1 and (live == 2 or live == 3)):\n",
        "                  self.new_grid[i][j] = 1 # Continue living.\n",
        "               elif(self.old_grid[i][j] == 1 and live > 3):\n",
        "                  self.new_grid[i][j] = 0 # Dead from overcrowding.\n",
        "               elif(self.old_grid[i][j] == 0 and live == 3):\n",
        "                  self.new_grid[i][j] = 1 # Alive from reproduction.\n",
        "\n",
        "         # Output the new configuration.\n",
        "         if(t % write_frequency == 0):\n",
        "            pylab.pcolormesh(self.new_grid)\n",
        "            pylab.savefig(\"generation%03d.png\" % t)\n",
        "\n",
        "            #pylab.show()\n",
        "            #https://gammasoft.jp/blog/python-string-format/\n",
        "\n",
        "         # The new configuration becomes the old configuration for the next generation.\n",
        "         self.old_grid = self.new_grid.copy()\n",
        "\n",
        "         # Move on to the next time level\n",
        "         t += 1\n",
        "\n",
        "if(__name__ == \"__main__\"):\n",
        "   game = GameOfLife(N = 100, T = 200)\n",
        "   game.play()\n",
        "   from PIL import Image\n",
        "\n",
        "   import glob\n",
        "\n",
        "  #画像をまとめてgifにする\n",
        "   files = sorted(glob.glob('./*.png'))  \n",
        "   images = list(map(lambda file : Image.open(file) , files))\n",
        "   images[0].save('image.gif' , save_all = True , append_images = images[1:] , duration = 400 , loop = 0)"
      ],
      "execution_count": null,
      "outputs": [
        {
          "output_type": "stream",
          "name": "stdout",
          "text": [
            "Drive already mounted at /content/drive; to attempt to forcibly remount, call drive.mount(\"/content/drive\", force_remount=True).\n",
            "/content/drive/My Drive/ai/game-of-life\n"
          ]
        },
        {
          "output_type": "display_data",
          "data": {
            "text/plain": [
              "<Figure size 432x288 with 1 Axes>"
            ],
            "image/png": "[encoded data removed]"
          },
          "metadata": {
            "needs_background": "light"
          }
        }
      ]
    }
  ]
}